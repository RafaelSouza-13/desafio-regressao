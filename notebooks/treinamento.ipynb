{
 "cells": [
  {
   "cell_type": "markdown",
   "metadata": {},
   "source": [
    "## Treinamento do modelo de Regressão"
   ]
  },
  {
   "cell_type": "code",
   "execution_count": 1,
   "metadata": {},
   "outputs": [],
   "source": [
    "import sys\n",
    "import os\n",
    "sys.path.append(os.path.abspath(\"..\"))\n",
    "import setup\n"
   ]
  },
  {
   "cell_type": "code",
   "execution_count": 2,
   "metadata": {},
   "outputs": [],
   "source": [
    "from processamento_dados import load_data\n",
    "from sklearn.model_selection import train_test_split\n",
    "from sklearn.metrics import mean_squared_error\n",
    "from sklearn.preprocessing import StandardScaler\n",
    "from sklearn.metrics import mean_squared_error\n",
    "import matplotlib.pyplot as plt\n",
    "import numpy as np"
   ]
  },
  {
   "cell_type": "code",
   "execution_count": 3,
   "metadata": {},
   "outputs": [],
   "source": [
    "DATAFRAME_PATH = os.path.join('..','data', 'teste_indicium_precificacao_final.csv')\n",
    "df = load_data(DATAFRAME_PATH)\n"
   ]
  },
  {
   "cell_type": "markdown",
   "metadata": {},
   "source": [
    "#### Divisão da base em treinamento e teste"
   ]
  },
  {
   "cell_type": "code",
   "execution_count": 4,
   "metadata": {},
   "outputs": [],
   "source": [
    "\n",
    "Y = df['price'].to_numpy()\n",
    "X = df.drop(columns=['price']).to_numpy()\n",
    "X_train, X_test, y_train, y_test = train_test_split(X, Y, test_size=0.2, random_state=42)"
   ]
  },
  {
   "cell_type": "markdown",
   "metadata": {},
   "source": [
    "#### Modelo xgboost baseado em árvores de decisão"
   ]
  },
  {
   "cell_type": "code",
   "execution_count": null,
   "metadata": {},
   "outputs": [
    {
     "name": "stdout",
     "output_type": "stream",
     "text": [
      "MSE: 52082.019531\n",
      "MAE: 72.055364\n"
     ]
    }
   ],
   "source": [
    "import xgboost as xgb\n",
    "\n",
    "xg_reg = xgb.XGBRegressor(objective ='reg:squarederror', colsample_bytree = 0.3, learning_rate = 0.1,\n",
    "                max_depth = 50, alpha = 10, n_estimators = 20)\n",
    "\n",
    "xg_reg.fit(X_train,y_train)\n",
    "\n",
    "preds = xg_reg.predict(X_test)\n",
    "mse = mean_squared_error(y_test, preds)\n",
    "print(\"MSE: %f\" % (mse))\n",
    "\n",
    "mae = abs(y_test - preds).mean()\n",
    "print(\"MAE: %f\" % (mae))\n",
    "\n",
    "# Avaliando Mean Square (MSE) Error e Mean Absolute Error (MAE)\n"
   ]
  },
  {
   "cell_type": "markdown",
   "metadata": {},
   "source": [
    "#### Modelo redes neurais"
   ]
  },
  {
   "cell_type": "code",
   "execution_count": 6,
   "metadata": {},
   "outputs": [
    {
     "name": "stdout",
     "output_type": "stream",
     "text": [
      "Model: MLPRegressor(early_stopping=True, hidden_layer_sizes=(100, 100),\n",
      "             learning_rate='adaptive', learning_rate_init=0.01, max_iter=1000), MSE: 52059.42818710395\n",
      "Model: MLPRegressor(early_stopping=True, hidden_layer_sizes=(300, 500),\n",
      "             learning_rate='adaptive', learning_rate_init=0.01, max_iter=1000), MSE: 51539.6748387996\n",
      "Model: MLPRegressor(early_stopping=True, hidden_layer_sizes=(500, 500),\n",
      "             learning_rate='adaptive', learning_rate_init=0.01, max_iter=1000), MSE: 51500.58968962662\n",
      "Best Model: MLPRegressor(early_stopping=True, hidden_layer_sizes=(500, 500),\n",
      "             learning_rate='adaptive', learning_rate_init=0.01, max_iter=1000), Best MSE: 51500.58968962662\n"
     ]
    },
    {
     "data": {
      "text/plain": [
       "['best_model.pkl']"
      ]
     },
     "execution_count": 6,
     "metadata": {},
     "output_type": "execute_result"
    }
   ],
   "source": [
    "from sklearn.neural_network import MLPRegressor\n",
    "import joblib\n",
    "\n",
    "# Define the models to be tested\n",
    "models = [\n",
    "    MLPRegressor(hidden_layer_sizes=(100, 100), max_iter=1000, verbose=False, early_stopping=True, activation='relu', solver='adam', learning_rate='adaptive', learning_rate_init=0.01, validation_fraction=0.1),\n",
    "    MLPRegressor(hidden_layer_sizes=(300, 500), max_iter=1000, verbose=False, early_stopping=True, activation='relu', solver='adam', learning_rate='adaptive', learning_rate_init=0.01, validation_fraction=0.1),\n",
    "    MLPRegressor(hidden_layer_sizes=(500, 500), max_iter=1000, verbose=False, early_stopping=True, activation='relu', solver='adam', learning_rate='adaptive', learning_rate_init=0.01, validation_fraction=0.1)\n",
    "]\n",
    "\n",
    "best_model = None\n",
    "best_rmse = float('inf')\n",
    "\n",
    "scaler = StandardScaler()\n",
    "scaler.fit(X_train)\n",
    "X_train_scaled = scaler.transform(X_train)\n",
    "X_test_scaled = scaler.transform(X_test)\n",
    "\n",
    "for model in models:\n",
    "    model.fit(X_train_scaled, y_train)\n",
    "    predictions = model.predict(X_test_scaled)\n",
    "    mse = mean_squared_error(y_test, predictions)\n",
    "    print(f\"Model: {model}, MSE: {mse}\")\n",
    "    \n",
    "    if mse < best_rmse:\n",
    "        best_rmse = mse\n",
    "        best_model = model\n",
    "\n",
    "print(f\"Best Model: {best_model}, Best MSE: {best_rmse}\")\n",
    "\n",
    "# Save the best model\n",
    "joblib.dump(best_model, 'best_model.pkl')"
   ]
  },
  {
   "cell_type": "code",
   "execution_count": 7,
   "metadata": {},
   "outputs": [
    {
     "name": "stdout",
     "output_type": "stream",
     "text": [
      "MAE: 65.30846789708735\n",
      "MSE: 51500.589690\n"
     ]
    }
   ],
   "source": [
    "# Avaliando Mean Square (MSE) Error e Mean Absolute Error (MAE)\n",
    "MAE = abs(predictions - y_test).mean()\n",
    "print(f\"MAE: {MAE}\")\n",
    "print(\"MSE: %f\" % (mse))"
   ]
  },
  {
   "cell_type": "markdown",
   "metadata": {},
   "source": [
    "#### Obtendo as piores previsões"
   ]
  },
  {
   "cell_type": "code",
   "execution_count": 8,
   "metadata": {},
   "outputs": [
    {
     "name": "stdout",
     "output_type": "stream",
     "text": [
      "Worst predictions:\n",
      "[ 9999  9999 10000  5100  3800  4000  3210  3000  2500  2000]\n",
      "[139.25012566 139.55349833 276.14245794 340.17580796 272.63394465\n",
      " 480.14401383 417.51800429 536.46108657 218.01651815  80.43505586]\n"
     ]
    }
   ],
   "source": [
    "worst = abs(y_test - predictions).argsort()[-10:][::-1]\n",
    "print(\"Worst predictions:\")\n",
    "print(y_test[worst])\n",
    "print(predictions[worst])\n"
   ]
  },
  {
   "cell_type": "markdown",
   "metadata": {},
   "source": [
    "#### Histograma dos erros"
   ]
  },
  {
   "cell_type": "code",
   "execution_count": 9,
   "metadata": {},
   "outputs": [
    {
     "name": "stdout",
     "output_type": "stream",
     "text": [
      "Total count: 9777\n"
     ]
    },
    {
     "data": {
      "image/png": "[encoded data removed]",
      "text/plain": [
       "<Figure size 640x480 with 1 Axes>"
      ]
     },
     "metadata": {},
     "output_type": "display_data"
    }
   ],
   "source": [
    "errors = abs(y_test - predictions)\n",
    "print(f\"Total count: {len(errors)}\")\n",
    "plt.hist(errors, bins=100, range=(0, 200), alpha=0.75, color='b', edgecolor='black', linewidth=1.2)\n",
    "plt.show()\n"
   ]
  },
  {
   "cell_type": "markdown",
   "metadata": {},
   "source": [
    "#### Modelo KNN regressor"
   ]
  },
  {
   "cell_type": "code",
   "execution_count": 10,
   "metadata": {},
   "outputs": [
    {
     "name": "stdout",
     "output_type": "stream",
     "text": [
      "MSE: 56254.724108\n",
      "MAE: 85.420666\n"
     ]
    }
   ],
   "source": [
    "from sklearn.neighbors import KNeighborsRegressor\n",
    "knn = KNeighborsRegressor(n_neighbors=20)\n",
    "knn.fit(X_train, y_train)\n",
    "predictions = knn.predict(X_test)\n",
    "\n",
    "mse = mean_squared_error(y_test, predictions)\n",
    "print(\"MSE: %f\" % (mse))\n",
    "\n",
    "mae = abs(y_test - predictions).mean()\n",
    "print(\"MAE: %f\" % (mae))\n",
    "\n",
    "# Avaliando Mean Square (MSE) Error e Mean Absolute Error (MAE)\n"
   ]
  }
 ],
 "metadata": {
  "kernelspec": {
   "display_name": ".env",
   "language": "python",
   "name": "python3"
  },
  "language_info": {
   "codemirror_mode": {
    "name": "ipython",
    "version": 3
   },
   "file_extension": ".py",
   "mimetype": "text/x-python",
   "name": "python",
   "nbconvert_exporter": "python",
   "pygments_lexer": "ipython3",
   "version": "3.12.3"
  }
 },
 "nbformat": 4,
 "nbformat_minor": 2
}
